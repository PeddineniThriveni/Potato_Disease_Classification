{
 "cells": [
  {
   "cell_type": "code",
   "execution_count": 3,
   "id": "7e42c3f4-0d52-4ab6-94a1-6049dbc776b4",
   "metadata": {},
   "outputs": [],
   "source": [
    "import tensorflow as tf\n",
    "from tensorflow.keras import models,layers\n"
   ]
  },
  {
   "cell_type": "code",
   "execution_count": 4,
   "id": "f5861a5b-9d03-4c9c-9177-a485c9a3ec20",
   "metadata": {},
   "outputs": [],
   "source": [
    "IMAGE_SIZE=256\n",
    "BATCH_SIZE=32\n",
    "channels=3\n",
    "EPOCHS=20"
   ]
  },
  {
   "cell_type": "code",
   "execution_count": 5,
   "id": "9a6881a7-9633-43bd-ba07-03da3b067f38",
   "metadata": {},
   "outputs": [
    {
     "name": "stdout",
     "output_type": "stream",
     "text": [
      "Found 2152 files belonging to 3 classes.\n"
     ]
    }
   ],
   "source": [
    "tf_dataset=tf.keras.preprocessing.image_dataset_from_directory(\"PlantVillage\",)\n"
   ]
  },
  {
   "cell_type": "code",
   "execution_count": 6,
   "id": "8d16d9a4-5ef3-4ea4-9396-85a2182e9a8f",
   "metadata": {},
   "outputs": [
    {
     "data": {
      "text/plain": [
       "68"
      ]
     },
     "execution_count": 6,
     "metadata": {},
     "output_type": "execute_result"
    }
   ],
   "source": [
    "len(tf_dataset)"
   ]
  },
  {
   "cell_type": "code",
   "execution_count": 7,
   "id": "b7fce46c-0622-4b8e-b3e6-4213c75ed319",
   "metadata": {},
   "outputs": [
    {
     "name": "stdout",
     "output_type": "stream",
     "text": [
      "['Potato___Early_blight', 'Potato___Late_blight', 'Potato___healthy']\n"
     ]
    }
   ],
   "source": [
    "classnames=tf_dataset.class_names\n",
    "print(classnames)"
   ]
  },
  {
   "cell_type": "code",
   "execution_count": 8,
   "id": "1731e52d-9ba5-4142-95de-55a6c7023740",
   "metadata": {},
   "outputs": [],
   "source": [
    "n_classes=len(classnames)"
   ]
  },
  {
   "cell_type": "code",
   "execution_count": 9,
   "id": "94c0c0b4-3cca-4026-aa01-e0c91d2624f0",
   "metadata": {},
   "outputs": [
    {
     "name": "stdout",
     "output_type": "stream",
     "text": [
      "tf.Tensor(\n",
      "[[[ 15.  15.  17.]\n",
      "  [ 14.  14.  16.]\n",
      "  [ 14.  14.  16.]\n",
      "  ...\n",
      "  [153. 150. 157.]\n",
      "  [138. 135. 142.]\n",
      "  [124. 121. 128.]]\n",
      "\n",
      " [[ 15.  15.  17.]\n",
      "  [ 14.  14.  16.]\n",
      "  [ 14.  14.  16.]\n",
      "  ...\n",
      "  [142. 139. 146.]\n",
      "  [150. 147. 154.]\n",
      "  [160. 157. 164.]]\n",
      "\n",
      " [[ 15.  15.  17.]\n",
      "  [ 14.  14.  16.]\n",
      "  [ 14.  14.  16.]\n",
      "  ...\n",
      "  [150. 147. 154.]\n",
      "  [155. 152. 159.]\n",
      "  [159. 156. 163.]]\n",
      "\n",
      " ...\n",
      "\n",
      " [[178. 175. 184.]\n",
      "  [183. 180. 189.]\n",
      "  [186. 183. 192.]\n",
      "  ...\n",
      "  [182. 179. 186.]\n",
      "  [187. 184. 191.]\n",
      "  [191. 188. 195.]]\n",
      "\n",
      " [[180. 177. 186.]\n",
      "  [184. 181. 190.]\n",
      "  [186. 183. 192.]\n",
      "  ...\n",
      "  [180. 177. 184.]\n",
      "  [181. 178. 185.]\n",
      "  [183. 180. 187.]]\n",
      "\n",
      " [[179. 176. 185.]\n",
      "  [183. 180. 189.]\n",
      "  [184. 181. 190.]\n",
      "  ...\n",
      "  [185. 182. 189.]\n",
      "  [182. 179. 186.]\n",
      "  [181. 178. 185.]]], shape=(256, 256, 3), dtype=float32)\n",
      "tf.Tensor([0 1 1 0 0 0 1 0 0 1 1 2 1 0 0 2 0 0 0 1 2 1 0 0 1 0 0 0 1 0 1 0], shape=(32,), dtype=int32)\n"
     ]
    }
   ],
   "source": [
    "for image,label in tf_dataset.take(1):\n",
    "    print(image[0])\n",
    "    print(label)"
   ]
  },
  {
   "cell_type": "code",
   "execution_count": 10,
   "id": "cf866bf8-4be7-4bb5-b2ce-af4034d382e8",
   "metadata": {},
   "outputs": [],
   "source": [
    "def get_dataset_partitions_tf(tf_dataset,train_split=0.8,val_split=0.1,test_split=0.1,shuffle=True,shuffle_size=1000):\n",
    "    ds_size=len(tf_dataset)\n",
    "    if shuffle:\n",
    "       tf_dataset= tf_dataset.shuffle(shuffle_size,seed=12)\n",
    "    train_size=int(train_split*ds_size)\n",
    "    train_ds=tf_dataset.take(train_size)\n",
    "    val_size=int(val_split*ds_size)\n",
    "    val_ds=tf_dataset.skip(train_size).take(val_size)\n",
    "    test_ds=tf_dataset.skip(train_size).skip(val_size)\n",
    "    return train_ds,val_ds,test_ds"
   ]
  },
  {
   "cell_type": "code",
   "execution_count": 11,
   "id": "ed328640-f7bf-4676-b3b0-bba2e6e9664d",
   "metadata": {},
   "outputs": [],
   "source": [
    "train_ds,val_ds,test_ds=get_dataset_partitions_tf(tf_dataset)"
   ]
  },
  {
   "cell_type": "code",
   "execution_count": 12,
   "id": "906c5e37-4fc6-4316-9e23-476d2c7b1981",
   "metadata": {},
   "outputs": [
    {
     "name": "stdout",
     "output_type": "stream",
     "text": [
      "<_TakeDataset element_spec=(TensorSpec(shape=(None, 256, 256, 3), dtype=tf.float32, name=None), TensorSpec(shape=(None,), dtype=tf.int32, name=None))>\n"
     ]
    }
   ],
   "source": [
    "print(train_ds)"
   ]
  },
  {
   "cell_type": "code",
   "execution_count": 13,
   "id": "97ead050-3825-42d4-94b8-4dd60038c0d9",
   "metadata": {},
   "outputs": [
    {
     "data": {
      "text/plain": [
       "54"
      ]
     },
     "execution_count": 13,
     "metadata": {},
     "output_type": "execute_result"
    }
   ],
   "source": [
    "len(train_ds)"
   ]
  },
  {
   "cell_type": "code",
   "execution_count": 14,
   "id": "ddd8b7ad-d385-45dc-a7e1-6dd0f0cc29a1",
   "metadata": {},
   "outputs": [
    {
     "data": {
      "text/plain": [
       "54.400000000000006"
      ]
     },
     "execution_count": 14,
     "metadata": {},
     "output_type": "execute_result"
    }
   ],
   "source": [
    "68*0.8"
   ]
  },
  {
   "cell_type": "code",
   "execution_count": 15,
   "id": "3ae62431-9c33-4762-861b-45bad062f4b3",
   "metadata": {},
   "outputs": [
    {
     "data": {
      "text/plain": [
       "6"
      ]
     },
     "execution_count": 15,
     "metadata": {},
     "output_type": "execute_result"
    }
   ],
   "source": [
    "len(val_ds)"
   ]
  },
  {
   "cell_type": "code",
   "execution_count": 16,
   "id": "bd23c0ac-95f3-469c-a174-29d5c051ee66",
   "metadata": {},
   "outputs": [
    {
     "data": {
      "text/plain": [
       "8"
      ]
     },
     "execution_count": 16,
     "metadata": {},
     "output_type": "execute_result"
    }
   ],
   "source": [
    "len(test_ds)"
   ]
  },
  {
   "cell_type": "code",
   "execution_count": 17,
   "id": "973c33ce-c0b5-4ab5-9883-a43ed158ac3a",
   "metadata": {},
   "outputs": [],
   "source": [
    "train_ds=train_ds.cache().shuffle(1000).prefetch(buffer_size=tf.data.AUTOTUNE)\n",
    "val_ds=val_ds.cache().shuffle(1000).prefetch(buffer_size=tf.data.AUTOTUNE)\n",
    "test_ds=test_ds.cache().shuffle(1000).prefetch(buffer_size=tf.data.AUTOTUNE)"
   ]
  },
  {
   "cell_type": "code",
   "execution_count": 18,
   "id": "d4f0acab-6a2e-42a3-9dc2-51824ab7f23e",
   "metadata": {},
   "outputs": [],
   "source": [
    "resize_and_rescale=tf.keras.Sequential([\n",
    "    layers.Resizing(IMAGE_SIZE,IMAGE_SIZE),\n",
    "    layers.Rescaling(1.0/255)\n",
    "])"
   ]
  },
  {
   "cell_type": "code",
   "execution_count": 19,
   "id": "a2a1c066-38ad-40a4-89fa-9af674905e9a",
   "metadata": {},
   "outputs": [],
   "source": [
    "data_augmentation=tf.keras.Sequential([\n",
    "    layers.RandomFlip(\"horizontal_and_vertical\"),\n",
    "    layers.RandomRotation(0.2),\n",
    "])"
   ]
  },
  {
   "cell_type": "code",
   "execution_count": 20,
   "id": "6acc3491-2661-4b8b-bc6b-2edf0f5310d7",
   "metadata": {},
   "outputs": [
    {
     "name": "stderr",
     "output_type": "stream",
     "text": [
      "C:\\Users\\Acer\\Downloads\\Potato_disease\\training\\me_env\\lib\\site-packages\\keras\\src\\layers\\convolutional\\base_conv.py:107: UserWarning: Do not pass an `input_shape`/`input_dim` argument to a layer. When using Sequential models, prefer using an `Input(shape)` object as the first layer in the model instead.\n",
      "  super().__init__(activity_regularizer=activity_regularizer, **kwargs)\n"
     ]
    }
   ],
   "source": [
    "input_shape=(BATCH_SIZE,IMAGE_SIZE,IMAGE_SIZE,channels)\n",
    "model=models.Sequential([\n",
    "    resize_and_rescale,\n",
    "    data_augmentation,\n",
    "    layers.Conv2D(32,(3,3),activation='relu',input_shape=input_shape),\n",
    "    layers.MaxPooling2D((2,2)),\n",
    "    layers.Conv2D(64,kernel_size=(3,3),activation='relu'),\n",
    "     layers.MaxPooling2D((2,2)),\n",
    "     layers.Conv2D(64,kernel_size=(3,3),activation='relu'),\n",
    "     layers.MaxPooling2D((2,2)),\n",
    "     layers.Conv2D(64,kernel_size=(3,3),activation='relu'),\n",
    "     layers.MaxPooling2D((2,2)),\n",
    "     layers.Conv2D(64,kernel_size=(3,3),activation='relu'),\n",
    "     layers.MaxPooling2D((2,2)),\n",
    "     layers.Conv2D(64,kernel_size=(3,3),activation='relu'),\n",
    "     layers.MaxPooling2D((2,2)),\n",
    "      layers.Flatten(),\n",
    "      layers.Dense(64,activation='relu'),\n",
    "      layers.Dense(n_classes,activation='softmax'),\n",
    "])\n",
    "model.build(input_shape=input_shape)"
   ]
  },
  {
   "cell_type": "code",
   "execution_count": 21,
   "id": "13b9d37a-587a-4d16-9501-3faa4e44cc76",
   "metadata": {},
   "outputs": [],
   "source": [
    "model.compile(optimizer='adam',loss=tf.keras.losses.SparseCategoricalCrossentropy(from_logits=False),metrics=['accuracy'])"
   ]
  },
  {
   "cell_type": "code",
   "execution_count": 22,
   "id": "bd54f66d-f662-42f0-83e3-627bb10d8562",
   "metadata": {},
   "outputs": [
    {
     "name": "stdout",
     "output_type": "stream",
     "text": [
      "Epoch 1/20\n",
      "\u001b[1m54/54\u001b[0m \u001b[32m━━━━━━━━━━━━━━━━━━━━\u001b[0m\u001b[37m\u001b[0m \u001b[1m131s\u001b[0m 2s/step - accuracy: 0.5034 - loss: 0.9108 - val_accuracy: 0.6979 - val_loss: 0.7034\n",
      "Epoch 2/20\n",
      "\u001b[1m54/54\u001b[0m \u001b[32m━━━━━━━━━━━━━━━━━━━━\u001b[0m\u001b[37m\u001b[0m \u001b[1m112s\u001b[0m 2s/step - accuracy: 0.7382 - loss: 0.6675 - val_accuracy: 0.8542 - val_loss: 0.3506\n",
      "Epoch 3/20\n",
      "\u001b[1m54/54\u001b[0m \u001b[32m━━━━━━━━━━━━━━━━━━━━\u001b[0m\u001b[37m\u001b[0m \u001b[1m109s\u001b[0m 2s/step - accuracy: 0.8189 - loss: 0.4222 - val_accuracy: 0.8906 - val_loss: 0.2424\n",
      "Epoch 4/20\n",
      "\u001b[1m54/54\u001b[0m \u001b[32m━━━━━━━━━━━━━━━━━━━━\u001b[0m\u001b[37m\u001b[0m \u001b[1m104s\u001b[0m 2s/step - accuracy: 0.8902 - loss: 0.2911 - val_accuracy: 0.9115 - val_loss: 0.2889\n",
      "Epoch 5/20\n",
      "\u001b[1m54/54\u001b[0m \u001b[32m━━━━━━━━━━━━━━━━━━━━\u001b[0m\u001b[37m\u001b[0m \u001b[1m103s\u001b[0m 2s/step - accuracy: 0.8856 - loss: 0.2720 - val_accuracy: 0.9219 - val_loss: 0.2168\n",
      "Epoch 6/20\n",
      "\u001b[1m54/54\u001b[0m \u001b[32m━━━━━━━━━━━━━━━━━━━━\u001b[0m\u001b[37m\u001b[0m \u001b[1m102s\u001b[0m 2s/step - accuracy: 0.9047 - loss: 0.2467 - val_accuracy: 0.9427 - val_loss: 0.1916\n",
      "Epoch 7/20\n",
      "\u001b[1m54/54\u001b[0m \u001b[32m━━━━━━━━━━━━━━━━━━━━\u001b[0m\u001b[37m\u001b[0m \u001b[1m99s\u001b[0m 2s/step - accuracy: 0.9142 - loss: 0.1964 - val_accuracy: 0.8698 - val_loss: 0.3702\n",
      "Epoch 8/20\n",
      "\u001b[1m54/54\u001b[0m \u001b[32m━━━━━━━━━━━━━━━━━━━━\u001b[0m\u001b[37m\u001b[0m \u001b[1m102s\u001b[0m 2s/step - accuracy: 0.9180 - loss: 0.2017 - val_accuracy: 0.9010 - val_loss: 0.2046\n",
      "Epoch 9/20\n",
      "\u001b[1m54/54\u001b[0m \u001b[32m━━━━━━━━━━━━━━━━━━━━\u001b[0m\u001b[37m\u001b[0m \u001b[1m112s\u001b[0m 2s/step - accuracy: 0.9201 - loss: 0.2089 - val_accuracy: 0.9323 - val_loss: 0.2382\n",
      "Epoch 10/20\n",
      "\u001b[1m54/54\u001b[0m \u001b[32m━━━━━━━━━━━━━━━━━━━━\u001b[0m\u001b[37m\u001b[0m \u001b[1m113s\u001b[0m 2s/step - accuracy: 0.9392 - loss: 0.1696 - val_accuracy: 0.9427 - val_loss: 0.1740\n",
      "Epoch 11/20\n",
      "\u001b[1m54/54\u001b[0m \u001b[32m━━━━━━━━━━━━━━━━━━━━\u001b[0m\u001b[37m\u001b[0m \u001b[1m114s\u001b[0m 2s/step - accuracy: 0.9704 - loss: 0.0967 - val_accuracy: 0.9844 - val_loss: 0.0911\n",
      "Epoch 12/20\n",
      "\u001b[1m54/54\u001b[0m \u001b[32m━━━━━━━━━━━━━━━━━━━━\u001b[0m\u001b[37m\u001b[0m \u001b[1m104s\u001b[0m 2s/step - accuracy: 0.9506 - loss: 0.1017 - val_accuracy: 0.9479 - val_loss: 0.1903\n",
      "Epoch 13/20\n",
      "\u001b[1m54/54\u001b[0m \u001b[32m━━━━━━━━━━━━━━━━━━━━\u001b[0m\u001b[37m\u001b[0m \u001b[1m104s\u001b[0m 2s/step - accuracy: 0.9404 - loss: 0.1689 - val_accuracy: 0.9375 - val_loss: 0.1277\n",
      "Epoch 14/20\n",
      "\u001b[1m54/54\u001b[0m \u001b[32m━━━━━━━━━━━━━━━━━━━━\u001b[0m\u001b[37m\u001b[0m \u001b[1m103s\u001b[0m 2s/step - accuracy: 0.9714 - loss: 0.0739 - val_accuracy: 0.9583 - val_loss: 0.1446\n",
      "Epoch 15/20\n",
      "\u001b[1m54/54\u001b[0m \u001b[32m━━━━━━━━━━━━━━━━━━━━\u001b[0m\u001b[37m\u001b[0m \u001b[1m103s\u001b[0m 2s/step - accuracy: 0.9665 - loss: 0.0888 - val_accuracy: 0.9635 - val_loss: 0.1516\n",
      "Epoch 16/20\n",
      "\u001b[1m54/54\u001b[0m \u001b[32m━━━━━━━━━━━━━━━━━━━━\u001b[0m\u001b[37m\u001b[0m \u001b[1m98s\u001b[0m 2s/step - accuracy: 0.9626 - loss: 0.0804 - val_accuracy: 0.9844 - val_loss: 0.0641\n",
      "Epoch 17/20\n",
      "\u001b[1m54/54\u001b[0m \u001b[32m━━━━━━━━━━━━━━━━━━━━\u001b[0m\u001b[37m\u001b[0m \u001b[1m99s\u001b[0m 2s/step - accuracy: 0.9812 - loss: 0.0644 - val_accuracy: 0.8646 - val_loss: 0.5679\n",
      "Epoch 18/20\n",
      "\u001b[1m54/54\u001b[0m \u001b[32m━━━━━━━━━━━━━━━━━━━━\u001b[0m\u001b[37m\u001b[0m \u001b[1m107s\u001b[0m 2s/step - accuracy: 0.9569 - loss: 0.1393 - val_accuracy: 0.9688 - val_loss: 0.0746\n",
      "Epoch 19/20\n",
      "\u001b[1m54/54\u001b[0m \u001b[32m━━━━━━━━━━━━━━━━━━━━\u001b[0m\u001b[37m\u001b[0m \u001b[1m103s\u001b[0m 2s/step - accuracy: 0.9854 - loss: 0.0388 - val_accuracy: 0.9635 - val_loss: 0.0954\n",
      "Epoch 20/20\n",
      "\u001b[1m54/54\u001b[0m \u001b[32m━━━━━━━━━━━━━━━━━━━━\u001b[0m\u001b[37m\u001b[0m \u001b[1m104s\u001b[0m 2s/step - accuracy: 0.9671 - loss: 0.0944 - val_accuracy: 0.9583 - val_loss: 0.1177\n"
     ]
    },
    {
     "data": {
      "text/plain": [
       "<keras.src.callbacks.history.History at 0x2867163fb20>"
      ]
     },
     "execution_count": 22,
     "metadata": {},
     "output_type": "execute_result"
    }
   ],
   "source": [
    "model.fit(train_ds,epochs=EPOCHS,batch_size=BATCH_SIZE,verbose=1,validation_data=val_ds)"
   ]
  },
  {
   "cell_type": "code",
   "execution_count": 23,
   "id": "d452d739-9e8a-4ce3-bf39-13e720406413",
   "metadata": {},
   "outputs": [
    {
     "name": "stdout",
     "output_type": "stream",
     "text": [
      "\u001b[1m8/8\u001b[0m \u001b[32m━━━━━━━━━━━━━━━━━━━━\u001b[0m\u001b[37m\u001b[0m \u001b[1m9s\u001b[0m 417ms/step - accuracy: 0.9507 - loss: 0.1140\n"
     ]
    }
   ],
   "source": [
    "scores=model.evaluate(test_ds)"
   ]
  },
  {
   "cell_type": "code",
   "execution_count": 27,
   "id": "63add709-2e45-4eb7-bfd4-6db9b0965c25",
   "metadata": {},
   "outputs": [
    {
     "data": {
      "text/plain": [
       "[0.10998126864433289, 0.95703125]"
      ]
     },
     "execution_count": 27,
     "metadata": {},
     "output_type": "execute_result"
    }
   ],
   "source": [
    "scores"
   ]
  },
  {
   "cell_type": "code",
   "execution_count": 28,
   "id": "308d5ceb-e46c-4118-9c2c-0ed0f09dbef8",
   "metadata": {},
   "outputs": [
    {
     "name": "stdout",
     "output_type": "stream",
     "text": [
      "INFO:tensorflow:Assets written to: ../Saved_models/3\\assets\n"
     ]
    },
    {
     "name": "stderr",
     "output_type": "stream",
     "text": [
      "INFO:tensorflow:Assets written to: ../Saved_models/3\\assets\n"
     ]
    },
    {
     "name": "stdout",
     "output_type": "stream",
     "text": [
      "Saved artifact at '../Saved_models/3'. The following endpoints are available:\n",
      "\n",
      "* Endpoint 'serve'\n",
      "  args_0 (POSITIONAL_ONLY): TensorSpec(shape=(None, 256, 256, 3), dtype=tf.float32, name='keras_tensor')\n",
      "Output Type:\n",
      "  TensorSpec(shape=(None, 3), dtype=tf.float32, name=None)\n",
      "Captures:\n",
      "  2776451198544: TensorSpec(shape=(), dtype=tf.resource, name=None)\n",
      "  2776451199600: TensorSpec(shape=(), dtype=tf.resource, name=None)\n",
      "  2776451660992: TensorSpec(shape=(), dtype=tf.resource, name=None)\n",
      "  2776451657824: TensorSpec(shape=(), dtype=tf.resource, name=None)\n",
      "  2776451659936: TensorSpec(shape=(), dtype=tf.resource, name=None)\n",
      "  2776451660816: TensorSpec(shape=(), dtype=tf.resource, name=None)\n",
      "  2776451659232: TensorSpec(shape=(), dtype=tf.resource, name=None)\n",
      "  2776451748032: TensorSpec(shape=(), dtype=tf.resource, name=None)\n",
      "  2776451747504: TensorSpec(shape=(), dtype=tf.resource, name=None)\n",
      "  2776451744512: TensorSpec(shape=(), dtype=tf.resource, name=None)\n",
      "  2776451659584: TensorSpec(shape=(), dtype=tf.resource, name=None)\n",
      "  2776451749088: TensorSpec(shape=(), dtype=tf.resource, name=None)\n",
      "  2776451750672: TensorSpec(shape=(), dtype=tf.resource, name=None)\n",
      "  2776451748384: TensorSpec(shape=(), dtype=tf.resource, name=None)\n",
      "  2776451750496: TensorSpec(shape=(), dtype=tf.resource, name=None)\n",
      "  2776451750848: TensorSpec(shape=(), dtype=tf.resource, name=None)\n",
      "  2776451747152: TensorSpec(shape=(), dtype=tf.resource, name=None)\n",
      "  2776451751728: TensorSpec(shape=(), dtype=tf.resource, name=None)\n"
     ]
    }
   ],
   "source": [
    "model_version=3\n",
    "model.export(f\"../Saved_models/{model_version}\")"
   ]
  },
  {
   "cell_type": "code",
   "execution_count": 29,
   "id": "a7845c19-df07-41db-804e-af5213d81c6e",
   "metadata": {},
   "outputs": [
    {
     "name": "stderr",
     "output_type": "stream",
     "text": [
      "WARNING:absl:You are saving your model as an HDF5 file via `model.save()` or `keras.saving.save_model(model)`. This file format is considered legacy. We recommend using instead the native Keras format, e.g. `model.save('my_model.keras')` or `keras.saving.save_model(model, 'my_model.keras')`. \n"
     ]
    }
   ],
   "source": [
    "model.save(f\"../Saved_models/f.h5\")"
   ]
  },
  {
   "cell_type": "code",
   "execution_count": 34,
   "id": "0f5544c4-9c2f-4c4f-9b1d-951bb5c93fb7",
   "metadata": {},
   "outputs": [],
   "source": [
    "model.save(f\"../Saved_models/my_model.keras\")"
   ]
  },
  {
   "cell_type": "code",
   "execution_count": null,
   "id": "45cf5d68-9100-4b7d-b92e-6cdbd55fbef7",
   "metadata": {},
   "outputs": [],
   "source": []
  }
 ],
 "metadata": {
  "kernelspec": {
   "display_name": "Python (me_env)",
   "language": "python",
   "name": "me_env"
  },
  "language_info": {
   "codemirror_mode": {
    "name": "ipython",
    "version": 3
   },
   "file_extension": ".py",
   "mimetype": "text/x-python",
   "name": "python",
   "nbconvert_exporter": "python",
   "pygments_lexer": "ipython3",
   "version": "3.10.9"
  }
 },
 "nbformat": 4,
 "nbformat_minor": 5
}
